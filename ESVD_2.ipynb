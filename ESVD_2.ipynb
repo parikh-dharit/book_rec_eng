{
 "cells": [
  {
   "cell_type": "code",
   "execution_count": 22,
   "metadata": {},
   "outputs": [],
   "source": [
    "import operator\n",
    "import numpy as np\n",
    "import pandas as pd\n",
    "import csv\n",
    "import surprise\n",
    "import time\n",
    "import sklearn.preprocessing as prepro\n",
    "from surprise import SVD\n",
    "from surprise import NormalPredictor\n",
    "from surprise import Dataset\n",
    "from surprise import Reader\n",
    "import collections\n",
    "from surprise.model_selection import cross_validate\n",
    "from IPython.display import Image, display\n",
    "from IPython.core.display import HTML"
   ]
  },
  {
   "cell_type": "code",
   "execution_count": 3,
   "metadata": {},
   "outputs": [
    {
     "name": "stdout",
     "output_type": "stream",
     "text": [
      "   userID        ISBN  bookRating\n",
      "0  276725  034545104X         0.0\n",
      "1  276726  0155061224         5.0\n",
      "2  276727  0446520802         0.0\n",
      "3  276729  052165615X         3.0\n",
      "4  276729  0521795028         6.0\n",
      "   userID        ISBN  bookRating\n",
      "0  276725  034545104X           0\n",
      "1  276726  0155061224           5\n",
      "2  276727  0446520802           0\n",
      "3  276729  052165615X           3\n",
      "4  276729  0521795028           6\n"
     ]
    }
   ],
   "source": [
    "denserRatings = pd.read_csv('denser_ratings_1.csv', sep=';', error_bad_lines=False, encoding=\"latin-1\")\n",
    "denserRatings.columns = ['userID', 'ISBN', 'bookRating']\n",
    "\n",
    "ratings = pd.read_csv('BX-Book-Ratings.csv', sep=';', error_bad_lines=False, encoding=\"latin-1\")\n",
    "ratings.columns = ['userID', 'ISBN', 'bookRating']\n",
    "\n",
    "time_MF = []\n",
    "time_SVD = []\n",
    "RMS_MF = []\n",
    "RMS_SVD = []\n",
    "\n",
    "print(denserRatings.head())\n",
    "# print(dRatings.describe())\n",
    "print(ratings.head())\n",
    "# print(ratings.describe())"
   ]
  },
  {
   "cell_type": "code",
   "execution_count": 9,
   "metadata": {},
   "outputs": [],
   "source": [
    "class MatrixFacto(surprise.AlgoBase):\n",
    "    '''A basic rating prediction algorithm based on matrix factorization.'''\n",
    "    skip_train=0\n",
    "\n",
    "    def __init__(self, learning_rate, n_epochs, n_factors):\n",
    "\n",
    "        self.lr = learning_rate  # learning rate for SGD\n",
    "        self.n_epochs = n_epochs  # number of iterations of SGD\n",
    "        self.n_factors = n_factors  # number of factors\n",
    "\n",
    "    def train(self, trainset):\n",
    "        '''Learn the vectors p_u and q_i with SGD'''\n",
    "\n",
    "        print('Fitting data with SGD...')\n",
    "\n",
    "        # Randomly initialize the user and item factors.\n",
    "        p = np.random.normal(0, .1, (trainset.n_users, self.n_factors))\n",
    "        q = np.random.normal(0, .1, (trainset.n_items, self.n_factors))\n",
    "\n",
    "        # SGD procedure\n",
    "        for _ in range(self.n_epochs):\n",
    "            for u, i, r_ui in trainset.all_ratings():\n",
    "                err = r_ui - np.dot(p[u], q[i])\n",
    "                # Update vectors p_u and q_i\n",
    "                p[u] += self.lr * err * q[i]\n",
    "                q[i] += self.lr * err * p[u]\n",
    "                # Note: in the update of q_i, we should actually use the previous (non-updated) value of p_u.\n",
    "                # In practice it makes almost no difference.\n",
    "\n",
    "        self.p, self.q = p, q\n",
    "        self.trainset = trainset\n",
    "\n",
    "    def estimate(self, u, i):\n",
    "        '''Return the estmimated rating of user u for item i.'''\n",
    "\n",
    "        # return scalar product between p_u and q_i if user and item are known,\n",
    "        # else return the average of all ratings\n",
    "        if self.trainset.knows_user(u) and self.trainset.knows_item(i):\n",
    "            return np.dot(self.p[u], self.q[i])\n",
    "        else:\n",
    "            return self.trainset.global_mean"
   ]
  },
  {
   "cell_type": "code",
   "execution_count": 4,
   "metadata": {},
   "outputs": [],
   "source": [
    "def overWatch(tdata):\n",
    "    data_df = tdata.loc[tdata['bookRating'] != 0]\n",
    "    print(data_df['bookRating'].count())\n",
    "    reader = Reader(rating_scale=(1, 10))\n",
    "    data = Dataset.load_from_df(data_df[['userID', 'ISBN', 'bookRating']], reader)\n",
    "    data.split(2)\n",
    "    s_SVD(data)\n",
    "    MatFac(data)"
   ]
  },
  {
   "cell_type": "code",
   "execution_count": 5,
   "metadata": {},
   "outputs": [],
   "source": [
    "def MatFac(dat):\n",
    "    temp = time.time()\n",
    "    algo = MatrixFacto(learning_rate=.01, n_epochs=10, n_factors=10)\n",
    "    res = surprise.evaluate(algo, dat, measures=['RMSE'])\n",
    "    time_MF.append(time.time() - temp)\n",
    "    RMS_MF.append(np.mean(res['rmse']))"
   ]
  },
  {
   "cell_type": "code",
   "execution_count": 6,
   "metadata": {},
   "outputs": [],
   "source": [
    "def s_SVD(dat):\n",
    "    temp = time.time()\n",
    "    algo = surprise.SVD()\n",
    "    res = surprise.evaluate(algo, dat, measures=['RMSE'])\n",
    "    time_SVD.append(time.time() - temp)\n",
    "    RMS_SVD.append(np.mean(res['rmse']))"
   ]
  },
  {
   "cell_type": "code",
   "execution_count": 10,
   "metadata": {},
   "outputs": [
    {
     "name": "stdout",
     "output_type": "stream",
     "text": [
      "487018\n"
     ]
    },
    {
     "name": "stderr",
     "output_type": "stream",
     "text": [
      "C:\\Anaconda3\\lib\\site-packages\\surprise\\evaluate.py:66: UserWarning: The evaluate() method is deprecated. Please use model_selection.cross_validate() instead.\n",
      "  'model_selection.cross_validate() instead.', UserWarning)\n",
      "C:\\Anaconda3\\lib\\site-packages\\surprise\\dataset.py:193: UserWarning: Using data.split() or using load_from_folds() without using a CV iterator is now deprecated. \n",
      "  UserWarning)\n"
     ]
    },
    {
     "name": "stdout",
     "output_type": "stream",
     "text": [
      "Evaluating RMSE of algorithm SVD.\n",
      "\n",
      "------------\n",
      "Fold 1\n",
      "RMSE: 1.5734\n",
      "------------\n",
      "Fold 2\n",
      "RMSE: 1.5710\n",
      "------------\n",
      "------------\n",
      "Mean RMSE: 1.5722\n",
      "------------\n",
      "------------\n",
      "Evaluating RMSE of algorithm MatrixFacto.\n",
      "\n",
      "------------\n",
      "Fold 1\n",
      "Fitting data with SGD...\n"
     ]
    },
    {
     "name": "stderr",
     "output_type": "stream",
     "text": [
      "C:\\Anaconda3\\lib\\site-packages\\ipykernel_launcher.py:26: RuntimeWarning: overflow encountered in multiply\n"
     ]
    },
    {
     "name": "stdout",
     "output_type": "stream",
     "text": [
      "RMSE: 2.4712\n",
      "------------\n",
      "Fold 2\n",
      "Fitting data with SGD...\n"
     ]
    },
    {
     "name": "stderr",
     "output_type": "stream",
     "text": [
      "C:\\Anaconda3\\lib\\site-packages\\ipykernel_launcher.py:25: RuntimeWarning: overflow encountered in multiply\n",
      "C:\\Anaconda3\\lib\\site-packages\\ipykernel_launcher.py:25: RuntimeWarning: invalid value encountered in add\n"
     ]
    },
    {
     "name": "stdout",
     "output_type": "stream",
     "text": [
      "RMSE: 2.4641\n",
      "------------\n",
      "------------\n",
      "Mean RMSE: 2.4676\n",
      "------------\n",
      "------------\n"
     ]
    }
   ],
   "source": [
    "overWatch(denserRatings)"
   ]
  },
  {
   "cell_type": "code",
   "execution_count": 13,
   "metadata": {},
   "outputs": [
    {
     "name": "stdout",
     "output_type": "stream",
     "text": [
      "% data used in ESVD's first part:  6.357824975212649\n",
      "% data increase for ESVD's second part:  4.639757170937049\n"
     ]
    }
   ],
   "source": [
    "no_inter = 73101\n",
    "no_rati = ratings['bookRating'].count()\n",
    "per1 = (100.0*no_inter)/no_rati\n",
    "per2 = (100.0*(487018-433671))/no_rati\n",
    "print(\"% data used in ESVD's first part: \", per1)\n",
    "print(\"% data increase for ESVD's second part: \", per2)"
   ]
  },
  {
   "cell_type": "code",
   "execution_count": 14,
   "metadata": {},
   "outputs": [
    {
     "name": "stdout",
     "output_type": "stream",
     "text": [
      "Original Ratings: \n",
      "Mean MF_RMSE:  2.4910633790239727 Mean SVD_RMSE:  1.572203667942619\n",
      "Denser Ratings(Enhanced): \n",
      "Mean MF_RMSE:  2.4676401137616546 Mean SVD_RMSE:  1.5735536291280057\n",
      "Note: Rating Range is 1 to 10 and there is 4.63% more data(total 487K) in the denser ratings matrix, in this case.\n"
     ]
    }
   ],
   "source": [
    "print(\"Original Ratings: \")\n",
    "print(\"Mean MF_RMSE: \", RMS_MF[1], \"Mean SVD_RMSE: \", RMS_SVD[1])\n",
    "print(\"Denser Ratings(Enhanced): \")\n",
    "print(\"Mean MF_RMSE: \", RMS_MF[0], \"Mean SVD_RMSE: \", RMS_SVD[0])\n",
    "print(\"Note: Rating Range is 1 to 10 and there is 4.63% more data(total 487K) in the denser ratings matrix, in this case.\")"
   ]
  },
  {
   "cell_type": "code",
   "execution_count": 16,
   "metadata": {},
   "outputs": [
    {
     "name": "stdout",
     "output_type": "stream",
     "text": [
      "487018\n"
     ]
    },
    {
     "name": "stderr",
     "output_type": "stream",
     "text": [
      "C:\\Anaconda3\\lib\\site-packages\\surprise\\evaluate.py:66: UserWarning: The evaluate() method is deprecated. Please use model_selection.cross_validate() instead.\n",
      "  'model_selection.cross_validate() instead.', UserWarning)\n",
      "C:\\Anaconda3\\lib\\site-packages\\surprise\\dataset.py:193: UserWarning: Using data.split() or using load_from_folds() without using a CV iterator is now deprecated. \n",
      "  UserWarning)\n"
     ]
    },
    {
     "name": "stdout",
     "output_type": "stream",
     "text": [
      "Evaluating RMSE of algorithm SVD.\n",
      "\n",
      "------------\n",
      "Fold 1\n",
      "RMSE: 1.5752\n",
      "------------\n",
      "Fold 2\n",
      "RMSE: 1.5697\n",
      "------------\n",
      "------------\n",
      "Mean RMSE: 1.5725\n",
      "------------\n",
      "------------\n"
     ]
    }
   ],
   "source": [
    "data_df = denserRatings.loc[denserRatings['bookRating'] != 0]\n",
    "print(data_df['bookRating'].count())\n",
    "reader = Reader(rating_scale=(1, 10))\n",
    "data = Dataset.load_from_df(data_df[['userID', 'ISBN', 'bookRating']], reader)\n",
    "data.split(2)\n",
    "algo = surprise.SVD()\n",
    "res = surprise.evaluate(algo, data, measures=['RMSE'])"
   ]
  },
  {
   "cell_type": "code",
   "execution_count": 17,
   "metadata": {},
   "outputs": [
    {
     "name": "stderr",
     "output_type": "stream",
     "text": [
      "b'Skipping line 6452: expected 8 fields, saw 9\\nSkipping line 43667: expected 8 fields, saw 10\\nSkipping line 51751: expected 8 fields, saw 9\\n'\n",
      "b'Skipping line 92038: expected 8 fields, saw 9\\nSkipping line 104319: expected 8 fields, saw 9\\nSkipping line 121768: expected 8 fields, saw 9\\n'\n",
      "b'Skipping line 144058: expected 8 fields, saw 9\\nSkipping line 150789: expected 8 fields, saw 9\\nSkipping line 157128: expected 8 fields, saw 9\\nSkipping line 180189: expected 8 fields, saw 9\\nSkipping line 185738: expected 8 fields, saw 9\\n'\n",
      "b'Skipping line 209388: expected 8 fields, saw 9\\nSkipping line 220626: expected 8 fields, saw 9\\nSkipping line 227933: expected 8 fields, saw 11\\nSkipping line 228957: expected 8 fields, saw 10\\nSkipping line 245933: expected 8 fields, saw 9\\nSkipping line 251296: expected 8 fields, saw 9\\nSkipping line 259941: expected 8 fields, saw 9\\nSkipping line 261529: expected 8 fields, saw 9\\n'\n"
     ]
    },
    {
     "name": "stdout",
     "output_type": "stream",
     "text": [
      "0    0195153448\n",
      "1    0002005018\n",
      "2    0060973129\n",
      "3    0374157065\n",
      "4    0393045218\n",
      "Name: ISBN, dtype: object\n"
     ]
    },
    {
     "name": "stderr",
     "output_type": "stream",
     "text": [
      "C:\\Anaconda3\\lib\\site-packages\\IPython\\core\\interactiveshell.py:2728: DtypeWarning: Columns (3) have mixed types. Specify dtype option on import or set low_memory=False.\n",
      "  interactivity=interactivity, compiler=compiler, result=result)\n"
     ]
    }
   ],
   "source": [
    "books = pd.read_csv(\"BX-Books.csv\", sep=';', error_bad_lines=False, encoding=\"latin-1\")\n",
    "books.columns = ['ISBN', 'Book-Title', 'Book-Author','Year-Of-Publication','Publisher','is','im', 'il']\n",
    "print(books['ISBN'].head())"
   ]
  },
  {
   "cell_type": "code",
   "execution_count": 18,
   "metadata": {},
   "outputs": [
    {
     "name": "stdout",
     "output_type": "stream",
     "text": [
      "(271360,)\n",
      "(271353,)\n",
      "count         271353\n",
      "unique        271353\n",
      "top       0517141434\n",
      "freq               1\n",
      "Name: ISBN, dtype: object\n",
      "   userID        ISBN  ratings\n",
      "0       8  0195153448        0\n",
      "2       8  0060973129        0\n",
      "3       8  0374157065        0\n",
      "4       8  0393045218        0\n",
      "5       8  0399135782        0\n",
      "         userID   ratings\n",
      "count  271353.0  271353.0\n",
      "mean        8.0       0.0\n",
      "std         0.0       0.0\n",
      "min         8.0       0.0\n",
      "25%         8.0       0.0\n",
      "50%         8.0       0.0\n",
      "75%         8.0       0.0\n",
      "max         8.0       0.0\n",
      "271353\n"
     ]
    }
   ],
   "source": [
    "u1_td = ratings.loc[(ratings['userID'] == 8) & (ratings['bookRating'] != 0)]\n",
    "allBooks = books['ISBN'] \n",
    "ratedBooks = u1_td['ISBN']\n",
    "\n",
    "print(allBooks.shape)\n",
    "\n",
    "remainingBooks = pd.concat([allBooks, ratedBooks]).drop_duplicates(keep=False)\n",
    "\n",
    "print(remainingBooks.shape)\n",
    "print(remainingBooks.describe())\n",
    "rBooks = pd.DataFrame(columns = ['userID', 'ISBN', 'ratings'])\n",
    "\n",
    "rBooks['ISBN'] = remainingBooks\n",
    "rBooks['userID'] = 8\n",
    "rBooks['ratings'] = 0\n",
    "\n",
    "print(rBooks.head())\n",
    "print(rBooks.describe())\n",
    "\n",
    "testset = [tuple(x) for x in rBooks.values]\n",
    "print(len(testset))"
   ]
  },
  {
   "cell_type": "code",
   "execution_count": 20,
   "metadata": {},
   "outputs": [
    {
     "name": "stdout",
     "output_type": "stream",
     "text": [
      "271353\n",
      "[Prediction(uid=8, iid='0195153448', r_ui=0, est=6.900719298510548, details={'was_impossible': False}), Prediction(uid=8, iid='0060973129', r_ui=0, est=6.914778548430258, details={'was_impossible': False}), Prediction(uid=8, iid='0374157065', r_ui=0, est=6.866552743346413, details={'was_impossible': False}), Prediction(uid=8, iid='0393045218', r_ui=0, est=6.900719298510548, details={'was_impossible': False}), Prediction(uid=8, iid='0399135782', r_ui=0, est=7.105390900247622, details={'was_impossible': False}), Prediction(uid=8, iid='0425176428', r_ui=0, est=6.818065771053425, details={'was_impossible': False}), Prediction(uid=8, iid='0671870432', r_ui=0, est=6.818725597461178, details={'was_impossible': False}), Prediction(uid=8, iid='0679425608', r_ui=0, est=6.900719298510548, details={'was_impossible': False}), Prediction(uid=8, iid='0771074670', r_ui=0, est=6.900719298510548, details={'was_impossible': False}), Prediction(uid=8, iid='080652121X', r_ui=0, est=6.900719298510548, details={'was_impossible': False}), Prediction(uid=8, iid='1558746218', r_ui=0, est=7.157175095249419, details={'was_impossible': False}), Prediction(uid=8, iid='0440234743', r_ui=0, est=6.974406858913484, details={'was_impossible': False}), Prediction(uid=8, iid='0452264464', r_ui=0, est=7.454958672255583, details={'was_impossible': False}), Prediction(uid=8, iid='0609804618', r_ui=0, est=7.0380770894846165, details={'was_impossible': False}), Prediction(uid=8, iid='1841721522', r_ui=0, est=7.51572342590525, details={'was_impossible': False}), Prediction(uid=8, iid='1879384493', r_ui=0, est=7.021952157064843, details={'was_impossible': False}), Prediction(uid=8, iid='0061076031', r_ui=0, est=6.698390641989085, details={'was_impossible': False}), Prediction(uid=8, iid='0439095026', r_ui=0, est=6.444336553035442, details={'was_impossible': False}), Prediction(uid=8, iid='0689821166', r_ui=0, est=6.830749928979633, details={'was_impossible': False}), Prediction(uid=8, iid='0971880107', r_ui=0, est=3.539611231682083, details={'was_impossible': False}), Prediction(uid=8, iid='0345402871', r_ui=0, est=6.4632176973409035, details={'was_impossible': False}), Prediction(uid=8, iid='0345417623', r_ui=0, est=6.883297462264576, details={'was_impossible': False}), Prediction(uid=8, iid='0684823802', r_ui=0, est=7.011315195131787, details={'was_impossible': False}), Prediction(uid=8, iid='0375759778', r_ui=0, est=6.181035658140286, details={'was_impossible': False}), Prediction(uid=8, iid='0425163091', r_ui=0, est=6.937436204232814, details={'was_impossible': False}), Prediction(uid=8, iid='3404921038', r_ui=0, est=6.910012598613104, details={'was_impossible': False}), Prediction(uid=8, iid='3442353866', r_ui=0, est=6.900719298510548, details={'was_impossible': False}), Prediction(uid=8, iid='3442410665', r_ui=0, est=6.900719298510548, details={'was_impossible': False}), Prediction(uid=8, iid='3442446937', r_ui=0, est=6.900719298510548, details={'was_impossible': False}), Prediction(uid=8, iid='0375406328', r_ui=0, est=6.611222174009407, details={'was_impossible': False}), Prediction(uid=8, iid='0446310786', r_ui=0, est=7.84117747269693, details={'was_impossible': False}), Prediction(uid=8, iid='0449005615', r_ui=0, est=7.885270223403775, details={'was_impossible': False}), Prediction(uid=8, iid='0060168013', r_ui=0, est=7.290620555154294, details={'was_impossible': False}), Prediction(uid=8, iid='038078243X', r_ui=0, est=6.900719298510548, details={'was_impossible': False}), Prediction(uid=8, iid='055321215X', r_ui=0, est=6.900719298510548, details={'was_impossible': False}), Prediction(uid=8, iid='067176537X', r_ui=0, est=6.975643377623785, details={'was_impossible': False}), Prediction(uid=8, iid='0061099686', r_ui=0, est=6.2571622768750705, details={'was_impossible': False}), Prediction(uid=8, iid='0553582909', r_ui=0, est=6.679712138591864, details={'was_impossible': False}), Prediction(uid=8, iid='0671888587', r_ui=0, est=6.797963368909879, details={'was_impossible': False}), Prediction(uid=8, iid='0553582747', r_ui=0, est=7.268003092670841, details={'was_impossible': False}), Prediction(uid=8, iid='0425182908', r_ui=0, est=4.644459599209646, details={'was_impossible': False}), Prediction(uid=8, iid='042518630X', r_ui=0, est=6.460336523628868, details={'was_impossible': False}), Prediction(uid=8, iid='0440223571', r_ui=0, est=6.689382390022633, details={'was_impossible': False}), Prediction(uid=8, iid='0812523873', r_ui=0, est=6.900719298510548, details={'was_impossible': False}), Prediction(uid=8, iid='0842342702', r_ui=0, est=6.6357649309445845, details={'was_impossible': False}), Prediction(uid=8, iid='0440225701', r_ui=0, est=6.791713262017954, details={'was_impossible': False}), Prediction(uid=8, iid='0060914068', r_ui=0, est=7.279847492548675, details={'was_impossible': False}), Prediction(uid=8, iid='0156047624', r_ui=0, est=7.142291942274987, details={'was_impossible': False}), Prediction(uid=8, iid='0245542957', r_ui=0, est=6.900719298510548, details={'was_impossible': False}), Prediction(uid=8, iid='0380715899', r_ui=0, est=6.84608660974657, details={'was_impossible': False})]\n"
     ]
    }
   ],
   "source": [
    "predictions = algo.test(testset)\n",
    "print(len(predictions))\n",
    "print(predictions[0:50])"
   ]
  },
  {
   "cell_type": "code",
   "execution_count": 32,
   "metadata": {},
   "outputs": [
    {
     "name": "stdout",
     "output_type": "stream",
     "text": [
      "Top rated books by this user:\n",
      "['Goodbye to the Buttermilk Sky']\n",
      "['Julia Oliver']\n",
      "------------------------------------------------------------\n",
      "['The Witchfinder (Amos Walker Mystery Series)']\n",
      "['Loren D. Estleman']\n",
      "------------------------------------------------------------\n",
      "['More Cunning Than Man: A Social History of Rats and Man']\n",
      "['Robert Hendrickson']\n",
      "------------------------------------------------------------\n",
      "['Clara Callan']\n",
      "['Richard Bruce Wright']\n",
      "------------------------------------------------------------\n",
      "[\"Where You'll Find Me: And Other Stories\"]\n",
      "['Ann Beattie']\n",
      "------------------------------------------------------------\n",
      "['The Middle Stories']\n",
      "['Sheila Heti']\n",
      "------------------------------------------------------------\n",
      "['Jane Doe']\n",
      "['R. J. Kaiser']\n",
      "------------------------------------------------------------\n"
     ]
    }
   ],
   "source": [
    "rated = data_df.loc[(data_df['userID'] == 8)]\n",
    "sRated = rated.sort_values('bookRating', ascending=False)\n",
    "risbn = [x for x in sRated['ISBN'].values]\n",
    "print(\"Top rated books by this user:\")\n",
    "rlen = min(10,len(risbn))\n",
    "fav_authors = []\n",
    "for i in range(rlen):\n",
    "    isbn = risbn[i]\n",
    "    book = books.loc[(books['ISBN'] == isbn)]\n",
    "    print(book['Book-Title'].values)\n",
    "    print(book['Book-Author'].values)\n",
    "    fav_authors.append(book['Book-Author'].values[0])\n",
    "    print('-'*60)"
   ]
  },
  {
   "cell_type": "code",
   "execution_count": 34,
   "metadata": {},
   "outputs": [],
   "source": [
    "fav_authors = list(set(fav_authors))"
   ]
  },
  {
   "cell_type": "code",
   "execution_count": 23,
   "metadata": {},
   "outputs": [
    {
     "name": "stdout",
     "output_type": "stream",
     "text": [
      "Top reccomended books for this user:\n",
      "['Harry Potter and the Prisoner of Azkaban (Book 3)']\n"
     ]
    },
    {
     "data": {
      "text/html": [
       "<img src=\"http://images.amazon.com/images/P/0439136369.01.MZZZZZZZ.jpg\"/>"
      ],
      "text/plain": [
       "<IPython.core.display.Image object>"
      ]
     },
     "metadata": {},
     "output_type": "display_data"
    },
    {
     "name": "stdout",
     "output_type": "stream",
     "text": [
      "['The Return of the King (The Lord of the Rings, Part 3)']\n"
     ]
    },
    {
     "data": {
      "text/html": [
       "<img src=\"http://images.amazon.com/images/P/0345339738.01.MZZZZZZZ.jpg\"/>"
      ],
      "text/plain": [
       "<IPython.core.display.Image object>"
      ]
     },
     "metadata": {},
     "output_type": "display_data"
    },
    {
     "name": "stdout",
     "output_type": "stream",
     "text": [
      "['Where the Sidewalk Ends : Poems and Drawings']\n"
     ]
    },
    {
     "data": {
      "text/html": [
       "<img src=\"http://images.amazon.com/images/P/0060256672.01.MZZZZZZZ.jpg\"/>"
      ],
      "text/plain": [
       "<IPython.core.display.Image object>"
      ]
     },
     "metadata": {},
     "output_type": "display_data"
    },
    {
     "name": "stdout",
     "output_type": "stream",
     "text": [
      "['Harry Potter and the Chamber of Secrets (Book 2)']\n"
     ]
    },
    {
     "data": {
      "text/html": [
       "<img src=\"http://images.amazon.com/images/P/0439064872.01.MZZZZZZZ.jpg\"/>"
      ],
      "text/plain": [
       "<IPython.core.display.Image object>"
      ]
     },
     "metadata": {},
     "output_type": "display_data"
    },
    {
     "name": "stdout",
     "output_type": "stream",
     "text": [
      "['Anne Frank: The Diary of a Young Girl']\n"
     ]
    },
    {
     "data": {
      "text/html": [
       "<img src=\"http://images.amazon.com/images/P/0553296981.01.MZZZZZZZ.jpg\"/>"
      ],
      "text/plain": [
       "<IPython.core.display.Image object>"
      ]
     },
     "metadata": {},
     "output_type": "display_data"
    },
    {
     "name": "stdout",
     "output_type": "stream",
     "text": [
      "['I Know This Much Is True']\n"
     ]
    },
    {
     "data": {
      "text/html": [
       "<img src=\"http://images.amazon.com/images/P/0060987561.01.MZZZZZZZ.jpg\"/>"
      ],
      "text/plain": [
       "<IPython.core.display.Image object>"
      ]
     },
     "metadata": {},
     "output_type": "display_data"
    },
    {
     "name": "stdout",
     "output_type": "stream",
     "text": [
      "[\"Harry Potter and the Sorcerer's Stone (Harry Potter (Paperback))\"]\n"
     ]
    },
    {
     "data": {
      "text/html": [
       "<img src=\"http://images.amazon.com/images/P/059035342X.01.MZZZZZZZ.jpg\"/>"
      ],
      "text/plain": [
       "<IPython.core.display.Image object>"
      ]
     },
     "metadata": {},
     "output_type": "display_data"
    },
    {
     "name": "stdout",
     "output_type": "stream",
     "text": [
      "['The Cat in the Hat']\n"
     ]
    },
    {
     "data": {
      "text/html": [
       "<img src=\"http://images.amazon.com/images/P/039480001X.01.MZZZZZZZ.jpg\"/>"
      ],
      "text/plain": [
       "<IPython.core.display.Image object>"
      ]
     },
     "metadata": {},
     "output_type": "display_data"
    },
    {
     "name": "stdout",
     "output_type": "stream",
     "text": [
      "['Odd Thomas']\n"
     ]
    },
    {
     "data": {
      "text/html": [
       "<img src=\"http://images.amazon.com/images/P/0553802496.01.MZZZZZZZ.jpg\"/>"
      ],
      "text/plain": [
       "<IPython.core.display.Image object>"
      ]
     },
     "metadata": {},
     "output_type": "display_data"
    },
    {
     "name": "stdout",
     "output_type": "stream",
     "text": [
      "['Harry Potter and the Chamber of Secrets (Book 2)']\n"
     ]
    },
    {
     "data": {
      "text/html": [
       "<img src=\"http://images.amazon.com/images/P/0439064864.01.MZZZZZZZ.jpg\"/>"
      ],
      "text/plain": [
       "<IPython.core.display.Image object>"
      ]
     },
     "metadata": {},
     "output_type": "display_data"
    }
   ],
   "source": [
    "order = sorted(predictions, key=lambda x: x.est, reverse=True)\n",
    "\n",
    "print(\"Top reccomended books for this user:\")\n",
    "for i in range(10):\n",
    "    isbn = order[i].iid\n",
    "    book = books.loc[(books['ISBN'] == isbn)]\n",
    "    print(book['Book-Title'].values)\n",
    "    imlst = book['im'].values\n",
    "    display(Image(url= imlst[0]))"
   ]
  },
  {
   "cell_type": "code",
   "execution_count": 41,
   "metadata": {},
   "outputs": [
    {
     "name": "stdout",
     "output_type": "stream",
     "text": [
      "[Prediction(uid=8, iid='0439136369', r_ui=0, est=8.339846197813394, details={'was_impossible': False}), Prediction(uid=8, iid='0345339738', r_ui=0, est=8.261896981947682, details={'was_impossible': False}), Prediction(uid=8, iid='0060256672', r_ui=0, est=8.112457331198378, details={'was_impossible': False}), Prediction(uid=8, iid='0439064872', r_ui=0, est=8.109038201640523, details={'was_impossible': False}), Prediction(uid=8, iid='0553296981', r_ui=0, est=8.091230714275829, details={'was_impossible': False}), Prediction(uid=8, iid='0060987561', r_ui=0, est=8.07894865292647, details={'was_impossible': False}), Prediction(uid=8, iid='059035342X', r_ui=0, est=8.07848843030184, details={'was_impossible': False}), Prediction(uid=8, iid='039480001X', r_ui=0, est=8.065659074742094, details={'was_impossible': False}), Prediction(uid=8, iid='0553802496', r_ui=0, est=8.06349363579023, details={'was_impossible': False}), Prediction(uid=8, iid='0439064864', r_ui=0, est=8.056157876728578, details={'was_impossible': False})]\n"
     ]
    }
   ],
   "source": [
    "print(order[0:10])"
   ]
  },
  {
   "cell_type": "code",
   "execution_count": 38,
   "metadata": {},
   "outputs": [
    {
     "name": "stdout",
     "output_type": "stream",
     "text": [
      "              ISBN                                         Book-Title  \\\n",
      "1       0002005018                                       Clara Callan   \n",
      "9       074322678X            Where You'll Find Me: And Other Stories   \n",
      "12      0887841740                                 The Middle Stories   \n",
      "13      1552041778                                           Jane Doe   \n",
      "15      1567407781       The Witchfinder (Amos Walker Mystery Series)   \n",
      "16      1575663937  More Cunning Than Man: A Social History of Rat...   \n",
      "17      1881320189                      Goodbye to the Buttermilk Sky   \n",
      "19575   0679731946            Picturing Will (Vintage Contemporaries)   \n",
      "23312   0446605964   Never Street (Amos Walker Mysteries (Paperback))   \n",
      "24623   1558021256                                     The Black Moon   \n",
      "35997   067162220X             Where You'll Find Me and Other Stories   \n",
      "38153   0394744187      Love Always: A Novel (Vintage Contemporaries)   \n",
      "43073   0743479130  Sweet Women Lie : An Amos Walker Mystery (Amos...   \n",
      "50283   0812549155                   Billy Gashade : An American Epic   \n",
      "53636   0394569873                                     Picturing Will   \n",
      "53941   0446607606                                   The Witch Finder   \n",
      "61447   0020165609             Where You'll Find Me and Other Stories   \n",
      "66245   0445045345                              Secrets and Surprises   \n",
      "66253   0679781323  My Life, Starring Dara Falcon (Vintage Contemp...   \n",
      "67719   0743412931      Sugartown (Amos Walker Mysteries (Paperback))   \n",
      "69226   0771597185                             The teacher's daughter   \n",
      "71861   0445046503                                   Falling In Place   \n",
      "73713   0449216233                    Downriver (Amos Walker Mystery)   \n",
      "73714   0449214672                                     Lady Yesterday   \n",
      "75549   0553089269                                 King of the Corner   \n",
      "83502   0553290258                                      Whiskey River   \n",
      "85804   0449211371                                Every Brilliant Eye   \n",
      "85947   0394539656                                        Love Always   \n",
      "87120   0743212649        The Doctor's House : A Novel (Beattie, Ann)   \n",
      "90112   0515126578                                    Mister St. John   \n",
      "...            ...                                                ...   \n",
      "205144  0743434951  Lady Yesterday : An Amos Walker Mystery (Amos ...   \n",
      "205146  081254546X  Something Borrowed, Something Black: A Peter M...   \n",
      "206051  0812549163                                Journey of the Dead   \n",
      "208978  0140056653                          Dr. Jekyll and Mr. Holmes   \n",
      "210569  084394496X                                             Legend   \n",
      "213486  0684815109            Where You'll Find Me: And Other Stories   \n",
      "214386  0743211693                        Perfect Recall: New Stories   \n",
      "214437  0816149763  Silent Thunder (G K Hall Large Print Book Series)   \n",
      "214578  0892966637  The Witchfinder (Amos Walker Mysteries (Hardco...   \n",
      "214586  0312863608                      Jitterbug: A Novel of Detroit   \n",
      "217799  0446403679                                             Stress   \n",
      "230021  1552042065                           Fruitcake (Mira (Audio))   \n",
      "231912  0553562584                                 King of the Corner   \n",
      "231964  0553297287                                             Motown   \n",
      "232909  0892965525                          Edsel: A Novel of Detroit   \n",
      "241747  0445405880                                    Any Man's Death   \n",
      "245847  0812825160  The grand emporiums: The illustrated history o...   \n",
      "248878  0816038694  New Yawk Tawk: A Dictionary of New York City E...   \n",
      "252747  0449127176                                    Mister St. John   \n",
      "255641  0553274945                                      Bloody Season   \n",
      "257902  1585471992           The Doctor's House (Premier Plus Series)   \n",
      "260545  0449128628                                            Gun Man   \n",
      "260663  0515125709                                     The Stranglers   \n",
      "261118  0812535391                                      Murdock's Law   \n",
      "263068  0892966335   Never Street (Amos Walker Mysteries (Hardcover))   \n",
      "265638  044631112X                                   Falling in Place   \n",
      "265837  0933277148               Ploughshares Fall 1995: Living Rooms   \n",
      "266762  0892965533                                             Stress   \n",
      "269765  1567400523          The Witchfinder (Bookcassette(r) Edition)   \n",
      "270660  0671449516                                       MURDOCKS LAW   \n",
      "\n",
      "                 Book-Author Year-Of-Publication                    Publisher  \\\n",
      "1       Richard Bruce Wright                2001        HarperFlamingo Canada   \n",
      "9                Ann Beattie                2002                     Scribner   \n",
      "12               Sheila Heti                2004        House of Anansi Press   \n",
      "13              R. J. Kaiser                1999                   Mira Books   \n",
      "15         Loren D. Estleman                1998     Brilliance Audio - Trade   \n",
      "16        Robert Hendrickson                1999  Kensington Publishing Corp.   \n",
      "17              Julia Oliver                1994               River City Pub   \n",
      "19575            Ann Beattie                1991            Vintage Books USA   \n",
      "23312      Loren D. Estleman                1998                 Warner Books   \n",
      "24623      Loren D. Estleman                1989                   Lynx Books   \n",
      "35997            Ann Beattie                1986         Simon &amp; Schuster   \n",
      "38153            Ann Beattie                1986            Vintage Books USA   \n",
      "43073      Loren D. Estleman                2004                      I Books   \n",
      "50283      Loren D. Estleman                1998                  Forge Books   \n",
      "53636            Ann Beattie                1990             Random House Inc   \n",
      "53941      Loren D. Estleman                1999                 Warner Books   \n",
      "61447            Ann Beattie                1987         Simon &amp; Schuster   \n",
      "66245            Ann Beattie                   0  Warner Books> C/o Little Br   \n",
      "66253            Ann Beattie                1998            Vintage Books USA   \n",
      "67719      Loren D. Estleman                2001                      I Books   \n",
      "69226   Richard Bruce Wright                1982          Macmillan of Canada   \n",
      "71861            Ann Beattie                   0  Warner Books> C/o Little Br   \n",
      "73713      Loren D. Estleman                1989                Fawcett Books   \n",
      "73714      Loren D. Estleman                1988                Fawcett Books   \n",
      "75549      Loren D. Estleman                1992                 Bantam Books   \n",
      "83502      Loren D. Estleman                1991                 Bantam Books   \n",
      "85804      Loren D. Estleman                1991                Fawcett Books   \n",
      "85947            Ann Beattie                1985             Random House Inc   \n",
      "87120            Ann Beattie                2002                     Scribner   \n",
      "90112      Loren D. Estleman                1999                   Jove Books   \n",
      "...                      ...                 ...                          ...   \n",
      "205144     Loren D. Estleman                2002                      I Books   \n",
      "205146     Loren D. Estleman                2003                  Forge Books   \n",
      "206051     Loren D. Estleman                1999                  Forge Books   \n",
      "208978     Loren D. Estleman                1980                  Penguin USA   \n",
      "210569     Loren D. Estleman                1999                Leisure Books   \n",
      "213486           Ann Beattie                1996        Scribner Book Company   \n",
      "214386           Ann Beattie                2001                     Scribner   \n",
      "214437     Loren D. Estleman                1990                 Thorndike Pr   \n",
      "214578     Loren D. Estleman                1998             Warner Books Inc   \n",
      "214586     Loren D. Estleman                1998                St Martins Pr   \n",
      "217799     Loren D. Estleman                1997                 Warner Books   \n",
      "230021          R. J. Kaiser                2000                   Mira Books   \n",
      "231912     Loren D. Estleman                1993                 Bantam Books   \n",
      "231964     Loren D. Estleman                1992                 Bantam Books   \n",
      "232909     Loren D. Estleman                1995             Warner Books Inc   \n",
      "241747     Loren D. Estleman                1987            Warner Books (Mm)   \n",
      "245847    Robert Hendrickson                1979                Stein and Day   \n",
      "248878    Robert Hendrickson                1998                Facts on File   \n",
      "252747     Loren D. Estleman                1985                Fawcett Books   \n",
      "255641     Loren D. Estleman                1990                 Bantam Books   \n",
      "257902           Ann Beattie                2002      Center Point Publishing   \n",
      "260545     Loren D. Estleman                1986                Fawcett Books   \n",
      "260663     Loren D. Estleman                1999                   Jove Books   \n",
      "261118     Loren D. Estleman                1997                  Forge Books   \n",
      "263068     Loren D. Estleman                1997             Warner Books Inc   \n",
      "265638           Ann Beattie                1983                    Not Avail   \n",
      "265837           Ann Beattie                1995           Ploughshares Books   \n",
      "266762     Loren D. Estleman                1996             Warner Books Inc   \n",
      "269765     Loren D. Estleman                1998                 Bookcassette   \n",
      "270660     Loren D. Estleman                1987                       Pocket   \n",
      "\n",
      "                                                       is  \\\n",
      "1       http://images.amazon.com/images/P/0002005018.0...   \n",
      "9       http://images.amazon.com/images/P/074322678X.0...   \n",
      "12      http://images.amazon.com/images/P/0887841740.0...   \n",
      "13      http://images.amazon.com/images/P/1552041778.0...   \n",
      "15      http://images.amazon.com/images/P/1567407781.0...   \n",
      "16      http://images.amazon.com/images/P/1575663937.0...   \n",
      "17      http://images.amazon.com/images/P/1881320189.0...   \n",
      "19575   http://images.amazon.com/images/P/0679731946.0...   \n",
      "23312   http://images.amazon.com/images/P/0446605964.0...   \n",
      "24623   http://images.amazon.com/images/P/1558021256.0...   \n",
      "35997   http://images.amazon.com/images/P/067162220X.0...   \n",
      "38153   http://images.amazon.com/images/P/0394744187.0...   \n",
      "43073   http://images.amazon.com/images/P/0743479130.0...   \n",
      "50283   http://images.amazon.com/images/P/0812549155.0...   \n",
      "53636   http://images.amazon.com/images/P/0394569873.0...   \n",
      "53941   http://images.amazon.com/images/P/0446607606.0...   \n",
      "61447   http://images.amazon.com/images/P/0020165609.0...   \n",
      "66245   http://images.amazon.com/images/P/0445045345.0...   \n",
      "66253   http://images.amazon.com/images/P/0679781323.0...   \n",
      "67719   http://images.amazon.com/images/P/0743412931.0...   \n",
      "69226   http://images.amazon.com/images/P/0771597185.0...   \n",
      "71861   http://images.amazon.com/images/P/0445046503.0...   \n",
      "73713   http://images.amazon.com/images/P/0449216233.0...   \n",
      "73714   http://images.amazon.com/images/P/0449214672.0...   \n",
      "75549   http://images.amazon.com/images/P/0553089269.0...   \n",
      "83502   http://images.amazon.com/images/P/0553290258.0...   \n",
      "85804   http://images.amazon.com/images/P/0449211371.0...   \n",
      "85947   http://images.amazon.com/images/P/0394539656.0...   \n",
      "87120   http://images.amazon.com/images/P/0743212649.0...   \n",
      "90112   http://images.amazon.com/images/P/0515126578.0...   \n",
      "...                                                   ...   \n",
      "205144  http://images.amazon.com/images/P/0743434951.0...   \n",
      "205146  http://images.amazon.com/images/P/081254546X.0...   \n",
      "206051  http://images.amazon.com/images/P/0812549163.0...   \n",
      "208978  http://images.amazon.com/images/P/0140056653.0...   \n",
      "210569  http://images.amazon.com/images/P/084394496X.0...   \n",
      "213486  http://images.amazon.com/images/P/0684815109.0...   \n",
      "214386  http://images.amazon.com/images/P/0743211693.0...   \n",
      "214437  http://images.amazon.com/images/P/0816149763.0...   \n",
      "214578  http://images.amazon.com/images/P/0892966637.0...   \n",
      "214586  http://images.amazon.com/images/P/0312863608.0...   \n",
      "217799  http://images.amazon.com/images/P/0446403679.0...   \n",
      "230021  http://images.amazon.com/images/P/1552042065.0...   \n",
      "231912  http://images.amazon.com/images/P/0553562584.0...   \n",
      "231964  http://images.amazon.com/images/P/0553297287.0...   \n",
      "232909  http://images.amazon.com/images/P/0892965525.0...   \n",
      "241747  http://images.amazon.com/images/P/0445405880.0...   \n",
      "245847  http://images.amazon.com/images/P/0812825160.0...   \n",
      "248878  http://images.amazon.com/images/P/0816038694.0...   \n",
      "252747  http://images.amazon.com/images/P/0449127176.0...   \n",
      "255641  http://images.amazon.com/images/P/0553274945.0...   \n",
      "257902  http://images.amazon.com/images/P/1585471992.0...   \n",
      "260545  http://images.amazon.com/images/P/0449128628.0...   \n",
      "260663  http://images.amazon.com/images/P/0515125709.0...   \n",
      "261118  http://images.amazon.com/images/P/0812535391.0...   \n",
      "263068  http://images.amazon.com/images/P/0892966335.0...   \n",
      "265638  http://images.amazon.com/images/P/044631112X.0...   \n",
      "265837  http://images.amazon.com/images/P/0933277148.0...   \n",
      "266762  http://images.amazon.com/images/P/0892965533.0...   \n",
      "269765  http://images.amazon.com/images/P/1567400523.0...   \n",
      "270660  http://images.amazon.com/images/P/0671449516.0...   \n",
      "\n",
      "                                                       im  \\\n",
      "1       http://images.amazon.com/images/P/0002005018.0...   \n",
      "9       http://images.amazon.com/images/P/074322678X.0...   \n",
      "12      http://images.amazon.com/images/P/0887841740.0...   \n",
      "13      http://images.amazon.com/images/P/1552041778.0...   \n",
      "15      http://images.amazon.com/images/P/1567407781.0...   \n",
      "16      http://images.amazon.com/images/P/1575663937.0...   \n",
      "17      http://images.amazon.com/images/P/1881320189.0...   \n",
      "19575   http://images.amazon.com/images/P/0679731946.0...   \n",
      "23312   http://images.amazon.com/images/P/0446605964.0...   \n",
      "24623   http://images.amazon.com/images/P/1558021256.0...   \n",
      "35997   http://images.amazon.com/images/P/067162220X.0...   \n",
      "38153   http://images.amazon.com/images/P/0394744187.0...   \n",
      "43073   http://images.amazon.com/images/P/0743479130.0...   \n",
      "50283   http://images.amazon.com/images/P/0812549155.0...   \n",
      "53636   http://images.amazon.com/images/P/0394569873.0...   \n",
      "53941   http://images.amazon.com/images/P/0446607606.0...   \n",
      "61447   http://images.amazon.com/images/P/0020165609.0...   \n",
      "66245   http://images.amazon.com/images/P/0445045345.0...   \n",
      "66253   http://images.amazon.com/images/P/0679781323.0...   \n",
      "67719   http://images.amazon.com/images/P/0743412931.0...   \n",
      "69226   http://images.amazon.com/images/P/0771597185.0...   \n",
      "71861   http://images.amazon.com/images/P/0445046503.0...   \n",
      "73713   http://images.amazon.com/images/P/0449216233.0...   \n",
      "73714   http://images.amazon.com/images/P/0449214672.0...   \n",
      "75549   http://images.amazon.com/images/P/0553089269.0...   \n",
      "83502   http://images.amazon.com/images/P/0553290258.0...   \n",
      "85804   http://images.amazon.com/images/P/0449211371.0...   \n",
      "85947   http://images.amazon.com/images/P/0394539656.0...   \n",
      "87120   http://images.amazon.com/images/P/0743212649.0...   \n",
      "90112   http://images.amazon.com/images/P/0515126578.0...   \n",
      "...                                                   ...   \n",
      "205144  http://images.amazon.com/images/P/0743434951.0...   \n",
      "205146  http://images.amazon.com/images/P/081254546X.0...   \n",
      "206051  http://images.amazon.com/images/P/0812549163.0...   \n",
      "208978  http://images.amazon.com/images/P/0140056653.0...   \n",
      "210569  http://images.amazon.com/images/P/084394496X.0...   \n",
      "213486  http://images.amazon.com/images/P/0684815109.0...   \n",
      "214386  http://images.amazon.com/images/P/0743211693.0...   \n",
      "214437  http://images.amazon.com/images/P/0816149763.0...   \n",
      "214578  http://images.amazon.com/images/P/0892966637.0...   \n",
      "214586  http://images.amazon.com/images/P/0312863608.0...   \n",
      "217799  http://images.amazon.com/images/P/0446403679.0...   \n",
      "230021  http://images.amazon.com/images/P/1552042065.0...   \n",
      "231912  http://images.amazon.com/images/P/0553562584.0...   \n",
      "231964  http://images.amazon.com/images/P/0553297287.0...   \n",
      "232909  http://images.amazon.com/images/P/0892965525.0...   \n",
      "241747  http://images.amazon.com/images/P/0445405880.0...   \n",
      "245847  http://images.amazon.com/images/P/0812825160.0...   \n",
      "248878  http://images.amazon.com/images/P/0816038694.0...   \n",
      "252747  http://images.amazon.com/images/P/0449127176.0...   \n",
      "255641  http://images.amazon.com/images/P/0553274945.0...   \n",
      "257902  http://images.amazon.com/images/P/1585471992.0...   \n",
      "260545  http://images.amazon.com/images/P/0449128628.0...   \n",
      "260663  http://images.amazon.com/images/P/0515125709.0...   \n",
      "261118  http://images.amazon.com/images/P/0812535391.0...   \n",
      "263068  http://images.amazon.com/images/P/0892966335.0...   \n",
      "265638  http://images.amazon.com/images/P/044631112X.0...   \n",
      "265837  http://images.amazon.com/images/P/0933277148.0...   \n",
      "266762  http://images.amazon.com/images/P/0892965533.0...   \n",
      "269765  http://images.amazon.com/images/P/1567400523.0...   \n",
      "270660  http://images.amazon.com/images/P/0671449516.0...   \n",
      "\n",
      "                                                       il  \n",
      "1       http://images.amazon.com/images/P/0002005018.0...  \n",
      "9       http://images.amazon.com/images/P/074322678X.0...  \n",
      "12      http://images.amazon.com/images/P/0887841740.0...  \n",
      "13      http://images.amazon.com/images/P/1552041778.0...  \n",
      "15      http://images.amazon.com/images/P/1567407781.0...  \n",
      "16      http://images.amazon.com/images/P/1575663937.0...  \n",
      "17      http://images.amazon.com/images/P/1881320189.0...  \n",
      "19575   http://images.amazon.com/images/P/0679731946.0...  \n",
      "23312   http://images.amazon.com/images/P/0446605964.0...  \n",
      "24623   http://images.amazon.com/images/P/1558021256.0...  \n",
      "35997   http://images.amazon.com/images/P/067162220X.0...  \n",
      "38153   http://images.amazon.com/images/P/0394744187.0...  \n",
      "43073   http://images.amazon.com/images/P/0743479130.0...  \n",
      "50283   http://images.amazon.com/images/P/0812549155.0...  \n",
      "53636   http://images.amazon.com/images/P/0394569873.0...  \n",
      "53941   http://images.amazon.com/images/P/0446607606.0...  \n",
      "61447   http://images.amazon.com/images/P/0020165609.0...  \n",
      "66245   http://images.amazon.com/images/P/0445045345.0...  \n",
      "66253   http://images.amazon.com/images/P/0679781323.0...  \n",
      "67719   http://images.amazon.com/images/P/0743412931.0...  \n",
      "69226   http://images.amazon.com/images/P/0771597185.0...  \n",
      "71861   http://images.amazon.com/images/P/0445046503.0...  \n",
      "73713   http://images.amazon.com/images/P/0449216233.0...  \n",
      "73714   http://images.amazon.com/images/P/0449214672.0...  \n",
      "75549   http://images.amazon.com/images/P/0553089269.0...  \n",
      "83502   http://images.amazon.com/images/P/0553290258.0...  \n",
      "85804   http://images.amazon.com/images/P/0449211371.0...  \n",
      "85947   http://images.amazon.com/images/P/0394539656.0...  \n",
      "87120   http://images.amazon.com/images/P/0743212649.0...  \n",
      "90112   http://images.amazon.com/images/P/0515126578.0...  \n",
      "...                                                   ...  \n",
      "205144  http://images.amazon.com/images/P/0743434951.0...  \n",
      "205146  http://images.amazon.com/images/P/081254546X.0...  \n",
      "206051  http://images.amazon.com/images/P/0812549163.0...  \n",
      "208978  http://images.amazon.com/images/P/0140056653.0...  \n",
      "210569  http://images.amazon.com/images/P/084394496X.0...  \n",
      "213486  http://images.amazon.com/images/P/0684815109.0...  \n",
      "214386  http://images.amazon.com/images/P/0743211693.0...  \n",
      "214437  http://images.amazon.com/images/P/0816149763.0...  \n",
      "214578  http://images.amazon.com/images/P/0892966637.0...  \n",
      "214586  http://images.amazon.com/images/P/0312863608.0...  \n",
      "217799  http://images.amazon.com/images/P/0446403679.0...  \n",
      "230021  http://images.amazon.com/images/P/1552042065.0...  \n",
      "231912  http://images.amazon.com/images/P/0553562584.0...  \n",
      "231964  http://images.amazon.com/images/P/0553297287.0...  \n",
      "232909  http://images.amazon.com/images/P/0892965525.0...  \n",
      "241747  http://images.amazon.com/images/P/0445405880.0...  \n",
      "245847  http://images.amazon.com/images/P/0812825160.0...  \n",
      "248878  http://images.amazon.com/images/P/0816038694.0...  \n",
      "252747  http://images.amazon.com/images/P/0449127176.0...  \n",
      "255641  http://images.amazon.com/images/P/0553274945.0...  \n",
      "257902  http://images.amazon.com/images/P/1585471992.0...  \n",
      "260545  http://images.amazon.com/images/P/0449128628.0...  \n",
      "260663  http://images.amazon.com/images/P/0515125709.0...  \n",
      "261118  http://images.amazon.com/images/P/0812535391.0...  \n",
      "263068  http://images.amazon.com/images/P/0892966335.0...  \n",
      "265638  http://images.amazon.com/images/P/044631112X.0...  \n",
      "265837  http://images.amazon.com/images/P/0933277148.0...  \n",
      "266762  http://images.amazon.com/images/P/0892965533.0...  \n",
      "269765  http://images.amazon.com/images/P/1567400523.0...  \n",
      "270660  http://images.amazon.com/images/P/0671449516.0...  \n",
      "\n",
      "[105 rows x 8 columns]\n"
     ]
    }
   ],
   "source": [
    "books_of_fav_author = books.loc[books['Book-Author'].isin(fav_authors)]\n",
    "print(books_of_fav_author)"
   ]
  },
  {
   "cell_type": "code",
   "execution_count": 70,
   "metadata": {},
   "outputs": [
    {
     "name": "stdout",
     "output_type": "stream",
     "text": [
      "['The Master Executioner', 'The Hider', 'Sugartown (Amos Walker Mysteries (Paperback))', 'Squeeze Play: A Novel', 'Never Street (Amos Walker Mysteries (Paperback))', 'The Black Moon']\n"
     ]
    }
   ],
   "source": [
    "recommended_6_books = []\n",
    "counter = 0\n",
    "for i in range(len(predictions)):\n",
    "    isbn = order[i].iid\n",
    "    book_1 = books_of_fav_author.loc[(books_of_fav_author['ISBN'] == isbn)]\n",
    "\n",
    "    if counter == 6:\n",
    "       break \n",
    "    if not book_1.empty:\n",
    "        counter += 1\n",
    "        recommended_6_books.append(book_1['Book-Title'].values[0])\n",
    "print(recommended_6_books)"
   ]
  },
  {
   "cell_type": "code",
   "execution_count": 71,
   "metadata": {},
   "outputs": [
    {
     "name": "stdout",
     "output_type": "stream",
     "text": [
      "['Harry Potter and the Prisoner of Azkaban (Book 3)', 'The Return of the King (The Lord of the Rings, Part 3)', 'Where the Sidewalk Ends : Poems and Drawings', 'Harry Potter and the Chamber of Secrets (Book 2)']\n"
     ]
    }
   ],
   "source": [
    "recommended_4_books = []\n",
    "counter = 0\n",
    "for i in range(len(predictions)):\n",
    "    isbn = order[i].iid\n",
    "    book_2 = books_of_fav_author.loc[(books_of_fav_author['ISBN'] == isbn)]\n",
    "\n",
    "    if counter == 4:\n",
    "       break \n",
    "    if book_2.empty:\n",
    "        counter += 1\n",
    "        recommended_4_books.append(books.loc[(books['ISBN'] == isbn)].values[0][1])\n",
    "print(recommended_4_books)"
   ]
  },
  {
   "cell_type": "code",
   "execution_count": 74,
   "metadata": {},
   "outputs": [
    {
     "name": "stdout",
     "output_type": "stream",
     "text": [
      "Final recommendation:\n"
     ]
    },
    {
     "data": {
      "text/plain": [
       "['The Master Executioner',\n",
       " 'The Hider',\n",
       " 'Sugartown (Amos Walker Mysteries (Paperback))',\n",
       " 'Squeeze Play: A Novel',\n",
       " 'Never Street (Amos Walker Mysteries (Paperback))',\n",
       " 'The Black Moon',\n",
       " 'Harry Potter and the Prisoner of Azkaban (Book 3)',\n",
       " 'The Return of the King (The Lord of the Rings, Part 3)',\n",
       " 'Where the Sidewalk Ends : Poems and Drawings',\n",
       " 'Harry Potter and the Chamber of Secrets (Book 2)']"
      ]
     },
     "execution_count": 74,
     "metadata": {},
     "output_type": "execute_result"
    }
   ],
   "source": [
    "recommneded_ten_books = recommended_6_books + recommended_4_books\n",
    "print(\"Final recommendation:\")\n",
    "recommneded_ten_books"
   ]
  },
  {
   "cell_type": "code",
   "execution_count": null,
   "metadata": {},
   "outputs": [],
   "source": []
  }
 ],
 "metadata": {
  "kernelspec": {
   "display_name": "Python 3",
   "language": "python",
   "name": "python3"
  },
  "language_info": {
   "codemirror_mode": {
    "name": "ipython",
    "version": 3
   },
   "file_extension": ".py",
   "mimetype": "text/x-python",
   "name": "python",
   "nbconvert_exporter": "python",
   "pygments_lexer": "ipython3",
   "version": "3.6.4"
  }
 },
 "nbformat": 4,
 "nbformat_minor": 2
}
