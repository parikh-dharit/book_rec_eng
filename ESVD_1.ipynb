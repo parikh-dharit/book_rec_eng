{
 "cells": [
  {
   "cell_type": "code",
   "execution_count": 1,
   "metadata": {},
   "outputs": [],
   "source": [
    "import operator\n",
    "import numpy as np\n",
    "import pandas as pd\n",
    "import csv\n",
    "import surprise\n",
    "import time\n",
    "import sklearn.preprocessing as prepro\n",
    "from surprise import SVD\n",
    "from surprise import NormalPredictor\n",
    "from surprise import Dataset\n",
    "from surprise import Reader\n",
    "import collections\n",
    "from surprise.model_selection import cross_validate"
   ]
  },
  {
   "cell_type": "code",
   "execution_count": 4,
   "metadata": {},
   "outputs": [
    {
     "name": "stdout",
     "output_type": "stream",
     "text": [
      "(433671, 3)\n",
      "Most rated books ratings:  162767\n",
      "Most rated users ratings:  620489\n"
     ]
    }
   ],
   "source": [
    "users=[]\n",
    "items=[]\n",
    "ratings = pd.read_csv('BX-Book-Ratings.csv', sep=';', error_bad_lines=False, encoding=\"latin-1\")\n",
    "ratings.columns = ['userID', 'ISBN', 'bookRating']\n",
    "ratings_not_zero = ratings.loc[ratings['bookRating'] != 0]\n",
    "print(ratings_not_zero.shape)\n",
    "\n",
    "users = ratings['userID'].values.tolist()\n",
    "books = ratings['ISBN'].values.tolist()\n",
    "\n",
    "books_rating_count = pd.DataFrame(ratings.groupby('ISBN')['bookRating'].count())\n",
    "frequent_books = books_rating_count.sort_values('bookRating', ascending=False).head(1000)\n",
    "users_rating_count = pd.DataFrame(ratings.groupby('userID')['bookRating'].count())\n",
    "frequent_users = users_rating_count.sort_values('bookRating', ascending=False).head(1500)\n",
    "\n",
    "most_rated_books = pd.DataFrame(frequent_books.index, index=np.arange(len(frequent_books.index)), columns = ['ISBN'])\n",
    "most_rated_books_ratings = pd.merge(most_rated_books, ratings, on='ISBN')\n",
    "\n",
    "most_rated_users = pd.DataFrame(frequent_users.index, index=np.arange(len(frequent_users.index)), columns = ['userID'])\n",
    "most_rated_users_ratings = pd.merge(most_rated_users, ratings, on='userID')\n",
    "\n",
    "most_rated_books_ratings = most_rated_books_ratings.values.tolist()\n",
    "print(\"Most rated books ratings: \",len(most_rated_books_ratings))\n",
    "\n",
    "for item in most_rated_books_ratings:\n",
    "    item[0], item[1] = item[1], item[0]\n",
    "\n",
    "most_rated_users_ratings = most_rated_users_ratings.values.tolist()\n",
    "print(\"Most rated users ratings: \",len(most_rated_users_ratings))"
   ]
  },
  {
   "cell_type": "code",
   "execution_count": 5,
   "metadata": {},
   "outputs": [
    {
     "name": "stdout",
     "output_type": "stream",
     "text": [
      "Intersection list:  73101\n",
      "Intersection dataframe:  (73101, 3)\n",
      "   userID        ISBN  bookRating\n",
      "0   67930  0440221315          10\n",
      "1  234623  0553280368           0\n",
      "2  216466  0553292722           0\n",
      "3   47316  0671004530          10\n",
      "4   43246  0375703764           0\n",
      "              userID    bookRating\n",
      "count   73101.000000  73101.000000\n",
      "mean   139970.253731      2.146811\n",
      "std     80687.243061      3.639671\n",
      "min       254.000000      0.000000\n",
      "25%     69405.000000      0.000000\n",
      "50%    138844.000000      0.000000\n",
      "75%    211426.000000      5.000000\n",
      "max    278418.000000     10.000000\n"
     ]
    }
   ],
   "source": [
    "intersection = set(map(tuple,most_rated_books_ratings)) & set(map(tuple,most_rated_users_ratings))\n",
    "intersection = list(map(list,intersection))\n",
    "print(\"Intersection list: \",len(intersection))\n",
    "\n",
    "intersection = pd.DataFrame(intersection, columns = ['userID','ISBN','bookRating'])\n",
    "print(\"Intersection dataframe: \",intersection.shape)\n",
    "print(intersection.head())\n",
    "print(intersection.describe())"
   ]
  },
  {
   "cell_type": "code",
   "execution_count": 6,
   "metadata": {},
   "outputs": [
    {
     "data": {
      "text/html": [
       "<div>\n",
       "<style scoped>\n",
       "    .dataframe tbody tr th:only-of-type {\n",
       "        vertical-align: middle;\n",
       "    }\n",
       "\n",
       "    .dataframe tbody tr th {\n",
       "        vertical-align: top;\n",
       "    }\n",
       "\n",
       "    .dataframe thead th {\n",
       "        text-align: right;\n",
       "    }\n",
       "</style>\n",
       "<table border=\"1\" class=\"dataframe\">\n",
       "  <thead>\n",
       "    <tr style=\"text-align: right;\">\n",
       "      <th></th>\n",
       "      <th>userID</th>\n",
       "      <th>ISBN</th>\n",
       "      <th>bookRating</th>\n",
       "    </tr>\n",
       "  </thead>\n",
       "  <tbody>\n",
       "    <tr>\n",
       "      <th>0</th>\n",
       "      <td>67930</td>\n",
       "      <td>0440221315</td>\n",
       "      <td>10</td>\n",
       "    </tr>\n",
       "    <tr>\n",
       "      <th>3</th>\n",
       "      <td>47316</td>\n",
       "      <td>0671004530</td>\n",
       "      <td>10</td>\n",
       "    </tr>\n",
       "    <tr>\n",
       "      <th>9</th>\n",
       "      <td>125203</td>\n",
       "      <td>0786817070</td>\n",
       "      <td>5</td>\n",
       "    </tr>\n",
       "    <tr>\n",
       "      <th>13</th>\n",
       "      <td>230522</td>\n",
       "      <td>0440940001</td>\n",
       "      <td>10</td>\n",
       "    </tr>\n",
       "    <tr>\n",
       "      <th>20</th>\n",
       "      <td>267635</td>\n",
       "      <td>0446360589</td>\n",
       "      <td>8</td>\n",
       "    </tr>\n",
       "  </tbody>\n",
       "</table>\n",
       "</div>"
      ],
      "text/plain": [
       "    userID        ISBN  bookRating\n",
       "0    67930  0440221315          10\n",
       "3    47316  0671004530          10\n",
       "9   125203  0786817070           5\n",
       "13  230522  0440940001          10\n",
       "20  267635  0446360589           8"
      ]
     },
     "execution_count": 6,
     "metadata": {},
     "output_type": "execute_result"
    }
   ],
   "source": [
    "nData = intersection.loc[intersection['bookRating'] != 0]\n",
    "nData.head()"
   ]
  },
  {
   "cell_type": "code",
   "execution_count": 8,
   "metadata": {},
   "outputs": [],
   "source": [
    "labels = ['userID', 'ISBN', 'bookRating']\n",
    "reader = Reader(rating_scale=(1, 10))\n",
    "dataTrain = Dataset.load_from_df(nData[labels], reader)\n",
    "trainset = dataTrain.build_full_trainset()"
   ]
  },
  {
   "cell_type": "code",
   "execution_count": 21,
   "metadata": {},
   "outputs": [
    {
     "data": {
      "text/plain": [
       "<surprise.prediction_algorithms.matrix_factorization.SVD at 0x1ab17178080>"
      ]
     },
     "execution_count": 21,
     "metadata": {},
     "output_type": "execute_result"
    }
   ],
   "source": [
    "svd = surprise.SVD()\n",
    "svd.fit(trainset)"
   ]
  },
  {
   "cell_type": "code",
   "execution_count": 22,
   "metadata": {},
   "outputs": [
    {
     "name": "stdout",
     "output_type": "stream",
     "text": [
      "Test data:\n",
      "   userID        ISBN  bookRating\n",
      "1  234623  0553280368           0\n",
      "2  216466  0553292722           0\n",
      "4   43246  0375703764           0\n",
      "5  127233  0374199698           0\n",
      "6  245827  0449912558           0\n"
     ]
    }
   ],
   "source": [
    "testData = intersection.loc[intersection['bookRating'] == 0]\n",
    "print(\"Test data:\")\n",
    "print(testData.head())\n",
    "# print(tData.describe())\n",
    "testset = [tuple(x) for x in testData.values]\n",
    "# print(testset[0])"
   ]
  },
  {
   "cell_type": "code",
   "execution_count": 26,
   "metadata": {},
   "outputs": [
    {
     "name": "stdout",
     "output_type": "stream",
     "text": [
      "53347\n",
      "user: 234623     item: 0553280368 r_ui = 0.00   est = 8.13   {'was_impossible': False}\n",
      "user: 43246      item: 0375703764 r_ui = 0.00   est = 8.78   {'was_impossible': False}\n"
     ]
    }
   ],
   "source": [
    "predictions_svd = svd.test(testset)\n",
    "print(len(predictions_svd))\n",
    "print(predictions_svd[0])\n",
    "print(predictions_svd[2])\n",
    "# print(predictions_svd[0][0])\n",
    "# print(predictions_svd[0][1])\n",
    "# print(predictions_svd[0][2])"
   ]
  },
  {
   "cell_type": "code",
   "execution_count": 29,
   "metadata": {},
   "outputs": [
    {
     "data": {
      "text/html": [
       "<div>\n",
       "<style scoped>\n",
       "    .dataframe tbody tr th:only-of-type {\n",
       "        vertical-align: middle;\n",
       "    }\n",
       "\n",
       "    .dataframe tbody tr th {\n",
       "        vertical-align: top;\n",
       "    }\n",
       "\n",
       "    .dataframe thead th {\n",
       "        text-align: right;\n",
       "    }\n",
       "</style>\n",
       "<table border=\"1\" class=\"dataframe\">\n",
       "  <thead>\n",
       "    <tr style=\"text-align: right;\">\n",
       "      <th></th>\n",
       "      <th>userID</th>\n",
       "      <th>ISBN</th>\n",
       "      <th>bookRating</th>\n",
       "    </tr>\n",
       "  </thead>\n",
       "  <tbody>\n",
       "    <tr>\n",
       "      <th>895204</th>\n",
       "      <td>216466</td>\n",
       "      <td>0553292722</td>\n",
       "      <td>0</td>\n",
       "    </tr>\n",
       "  </tbody>\n",
       "</table>\n",
       "</div>"
      ],
      "text/plain": [
       "        userID        ISBN  bookRating\n",
       "895204  216466  0553292722           0"
      ]
     },
     "execution_count": 29,
     "metadata": {},
     "output_type": "execute_result"
    }
   ],
   "source": [
    "predictions_svd[:][0]\n",
    "ratings.loc[(ratings['userID'] == (predictions_svd[1][0])) & (ratings['ISBN'] == str(predictions_svd[1][1]))]"
   ]
  },
  {
   "cell_type": "code",
   "execution_count": null,
   "metadata": {},
   "outputs": [],
   "source": [
    "for i in range(len(predictions_svd)):\n",
    "    ratings.loc[(ratings['userID'] == (predictions_svd[i][0])) & (ratings['ISBN'] == str(predictions_svd[i][1])), 'bookRating'] = predictions_svd[i][3]\n",
    "#     print(i)"
   ]
  },
  {
   "cell_type": "code",
   "execution_count": 38,
   "metadata": {},
   "outputs": [],
   "source": [
    "ratings.to_csv('denser_ratings_1.csv', sep=';', index=False)"
   ]
  },
  {
   "cell_type": "code",
   "execution_count": 39,
   "metadata": {},
   "outputs": [
    {
     "name": "stdout",
     "output_type": "stream",
     "text": [
      "(487018, 3)\n"
     ]
    }
   ],
   "source": [
    "denser_ratings = pd.read_csv('denser_ratings_1.csv', sep=';', error_bad_lines=False, encoding=\"latin-1\")\n",
    "denser_ratings.columns = ['userID', 'ISBN', 'bookRating']\n",
    "denser_ratings_not_zero = ratings.loc[ratings['bookRating'] != 0]\n",
    "print(denser_ratings_not_zero.shape)"
   ]
  }
 ],
 "metadata": {
  "kernelspec": {
   "display_name": "Python 3",
   "language": "python",
   "name": "python3"
  },
  "language_info": {
   "codemirror_mode": {
    "name": "ipython",
    "version": 3
   },
   "file_extension": ".py",
   "mimetype": "text/x-python",
   "name": "python",
   "nbconvert_exporter": "python",
   "pygments_lexer": "ipython3",
   "version": "3.6.4"
  }
 },
 "nbformat": 4,
 "nbformat_minor": 2
}
